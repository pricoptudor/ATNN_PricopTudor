{
  "cells": [
    {
      "cell_type": "code",
      "execution_count": null,
      "metadata": {
        "id": "21SBFugnVoLm"
      },
      "outputs": [],
      "source": [
        "!pip install setuptools==65.5.0"
      ]
    },
    {
      "cell_type": "code",
      "execution_count": null,
      "metadata": {
        "id": "f5fcJtKlVols"
      },
      "outputs": [],
      "source": [
        "%%capture\n",
        "!apt install python-opengl\n",
        "!apt install ffmpeg\n",
        "!apt install xvfb\n",
        "!apt install swig cmake\n",
        "!pip install pyglet==1.5\n",
        "!pip3 install pyvirtualdisplay"
      ]
    },
    {
      "cell_type": "code",
      "execution_count": null,
      "metadata": {
        "colab": {
          "background_save": true
        },
        "id": "2GFs0ikUVqlm"
      },
      "outputs": [],
      "source": [
        "!pip install gym==0.22\n",
        "!pip install imageio-ffmpeg\n",
        "!pip install huggingface_hub\n",
        "!pip install gym[box2d]==0.22\n",
        "!pip install wandb\n",
        "!pip install optuna"
      ]
    },
    {
      "cell_type": "code",
      "execution_count": null,
      "metadata": {
        "colab": {
          "background_save": true
        },
        "id": "bPj0bTihSqd_"
      },
      "outputs": [],
      "source": [
        "!pip install stable-baselines3[extra]\n",
        "!pip install sb3-contrib"
      ]
    },
    {
      "cell_type": "code",
      "execution_count": null,
      "metadata": {
        "colab": {
          "background_save": true
        },
        "id": "A0cFZb-7Sx_s",
        "outputId": "52218cd6-6963-4cd7-8321-26732e918727"
      },
      "outputs": [
        {
          "name": "stderr",
          "output_type": "stream",
          "text": [
            "\n"
          ]
        }
      ],
      "source": [
        "import gym\n",
        "import numpy as np\n",
        "import optuna\n",
        "import torch\n",
        "from sb3_contrib import ARS\n",
        "from stable_baselines3.common.callbacks import EvalCallback\n",
        "from stable_baselines3.common.env_util import make_vec_env\n",
        "from stable_baselines3.common.evaluation import evaluate_policy\n",
        "from stable_baselines3.common.vec_env import VecNormalize\n",
        "from optuna.pruners import MedianPruner\n",
        "from optuna.samplers import TPESampler\n",
        "from optuna.visualization import plot_optimization_history, plot_param_importances"
      ]
    },
    {
      "cell_type": "code",
      "execution_count": null,
      "metadata": {
        "colab": {
          "background_save": true
        },
        "id": "x8gOh59sS2ZU"
      },
      "outputs": [],
      "source": [
        "N_TRIALS = 100  # Maximum number of trials\n",
        "N_JOBS = -1 # Number of jobs to run in parallel\n",
        "N_STARTUP_TRIALS = 5  # Stop random sampling after N_STARTUP_TRIALS\n",
        "N_EVALUATIONS = 2  # Number of evaluations during the training\n",
        "N_TIMESTEPS = int(2e5)  # Training budget\n",
        "EVAL_FREQ = int(N_TIMESTEPS / N_EVALUATIONS)\n",
        "N_EVAL_ENVS = 5\n",
        "N_EVAL_EPISODES = 10\n",
        "TIMEOUT = None\n",
        "\n",
        "ENV_ID = \"BipedalWalker-v3\"\n",
        "\n",
        "DEFAULT_HYPERPARAMS = {\n",
        "    \"policy\": \"LinearPolicy\",\n",
        "    \"env\": ENV_ID,\n",
        "}\n",
        "\n",
        "#optuna.logging.set_verbosity(optuna.logging.DEBUG)"
      ]
    },
    {
      "cell_type": "code",
      "execution_count": null,
      "metadata": {
        "colab": {
          "background_save": true
        },
        "id": "JKHWnhV5S5T9"
      },
      "outputs": [],
      "source": [
        "def sample_ars_params(trial):\n",
        "    learning_rate = trial.suggest_float(\"learning_rate\", 1e-5, 1, log=True)\n",
        "    n_delta = trial.suggest_int(\"n_delta\", 4, 64)\n",
        "    n_top = trial.suggest_int(\"n_top\", 2, n_delta)\n",
        "    delta_std = trial.suggest_float(\"delta_std\", 1e-6, 1, log=True)\n",
        "\n",
        "    params = {\n",
        "        \"learning_rate\": learning_rate,\n",
        "        \"n_delta\": n_delta,\n",
        "        \"n_top\": n_top,\n",
        "        \"delta_std\": delta_std,\n",
        "    }\n",
        "\n",
        "    return params"
      ]
    },
    {
      "cell_type": "code",
      "execution_count": null,
      "metadata": {
        "colab": {
          "background_save": true
        },
        "id": "R26PgOICW6c3"
      },
      "outputs": [],
      "source": [
        "class TrialEvalCallback(EvalCallback):\n",
        "    \"\"\"\n",
        "    Callback used for evaluating and reporting a trial.\n",
        "\n",
        "    :param eval_env: Evaluation environement\n",
        "    :param trial: Optuna trial object\n",
        "    :param n_eval_episodes: Number of evaluation episodes\n",
        "    :param eval_freq:   Evaluate the agent every ``eval_freq`` call of the callback.\n",
        "    :param deterministic: Whether the evaluation should\n",
        "        use a stochastic or deterministic policy.\n",
        "    :param verbose:\n",
        "    \"\"\"\n",
        "\n",
        "    def __init__(\n",
        "        self,\n",
        "        eval_env: gym.Env,\n",
        "        trial: optuna.Trial,\n",
        "        n_eval_episodes: int,\n",
        "        eval_freq: int,\n",
        "        deterministic: bool,\n",
        "        verbose: int,\n",
        "    ):\n",
        "\n",
        "        super().__init__(\n",
        "            eval_env=eval_env,\n",
        "            n_eval_episodes=n_eval_episodes,\n",
        "            eval_freq=eval_freq,\n",
        "            deterministic=deterministic,\n",
        "            verbose=verbose,\n",
        "        )\n",
        "        self.trial = trial\n",
        "        self.eval_idx = 0\n",
        "        self.is_pruned = False\n",
        "\n",
        "    def _on_step(self) -> bool:\n",
        "        if self.eval_freq > 0 and self.n_calls % self.eval_freq == 0:\n",
        "            # Evaluate policy (done in the parent class)\n",
        "            super()._on_step()\n",
        "            self.eval_idx += 1\n",
        "            # Send report to Optuna\n",
        "            self.trial.report(self.last_mean_reward, self.eval_idx)\n",
        "            # Prune trial if need\n",
        "            if self.trial.should_prune():\n",
        "                self.is_pruned = True\n",
        "                return False\n",
        "        return True"
      ]
    },
    {
      "cell_type": "code",
      "execution_count": null,
      "metadata": {
        "colab": {
          "background_save": true
        },
        "id": "7u5ahW8DS8E7"
      },
      "outputs": [],
      "source": [
        "def objective(trial: optuna.Trial) -> float:\n",
        "    \"\"\"\n",
        "    Objective function using by Optuna to evaluate\n",
        "    one configuration (i.e., one set of hyperparameters).\n",
        "\n",
        "    Given a trial object, it will sample hyperparameters,\n",
        "    evaluate it and report the result (mean episodic reward after training)\n",
        "\n",
        "    :param trial: Optuna trial object\n",
        "    :return: Mean episodic reward after training\n",
        "    \"\"\"\n",
        "    kwargs = DEFAULT_HYPERPARAMS.copy()\n",
        "    kwargs.update(sample_ars_params(trial))\n",
        "\n",
        "    model = ARS(verbose=0, **kwargs)\n",
        "\n",
        "    eval_env = make_vec_env(ENV_ID, n_envs=N_EVAL_ENVS, seed=trial.number)\n",
        "    #eval_env = VecNormalize(eval_env)\n",
        "\n",
        "    eval_callback = TrialEvalCallback(\n",
        "        eval_env,\n",
        "        trial=trial,\n",
        "        n_eval_episodes=N_EVAL_EPISODES,\n",
        "        eval_freq=EVAL_FREQ,\n",
        "        deterministic=True,\n",
        "        verbose=0,\n",
        "    )\n",
        "\n",
        "    nan_encountered = False\n",
        "\n",
        "    try:\n",
        "      model.learn(N_TIMESTEPS, callback=eval_callback)\n",
        "    except AssertionError as e:\n",
        "      # Sometimes, random hyperparams can generate NaN\n",
        "      print(e)\n",
        "      nan_encountered = True\n",
        "    finally:\n",
        "      # Free memory\n",
        "      model.env.close()\n",
        "      eval_env.close()\n",
        "\n",
        "    if nan_encountered:\n",
        "      return float(\"nan\")\n",
        "\n",
        "    if eval_callback.is_pruned:\n",
        "      raise optuna.exceptions.TrialPruned()\n",
        "\n",
        "    return eval_callback.last_mean_reward"
      ]
    },
    {
      "cell_type": "code",
      "execution_count": null,
      "metadata": {
        "colab": {
          "background_save": true
        },
        "id": "_tDy4gHLhGZk"
      },
      "outputs": [],
      "source": [
        "#torch.set_num_threads(1)\n",
        "sampler = TPESampler(n_startup_trials=N_STARTUP_TRIALS)\n",
        "pruner = MedianPruner(\n",
        "    n_startup_trials=N_STARTUP_TRIALS, n_warmup_steps=N_EVALUATIONS // 3\n",
        ")"
      ]
    },
    {
      "cell_type": "code",
      "execution_count": null,
      "metadata": {
        "colab": {
          "background_save": true
        },
        "id": "wzB8ZrzDhcKM",
        "outputId": "e4b8195e-224c-4527-db3a-2aac87f0f508"
      },
      "outputs": [
        {
          "name": "stderr",
          "output_type": "stream",
          "text": [
            "[I 2023-12-31 16:32:18,736] A new study created in memory with name: no-name-52ae5aa8-0a0c-4344-89d6-3faf69e0b30e\n",
            "[I 2023-12-31 16:39:24,299] Trial 1 finished with value: -91.95766819999999 and parameters: {'learning_rate': 1.5193652817249861e-05, 'n_delta': 50, 'n_top': 23, 'delta_std': 0.0004113221908716642}. Best is trial 1 with value: -91.95766819999999.\n",
            "[I 2023-12-31 16:44:36,193] Trial 0 finished with value: -8.9572568 and parameters: {'learning_rate': 0.04083223884727603, 'n_delta': 61, 'n_top': 38, 'delta_std': 4.693492323427873e-06}. Best is trial 0 with value: -8.9572568.\n",
            "[I 2023-12-31 16:46:19,702] Trial 2 finished with value: -16.0622056 and parameters: {'learning_rate': 0.018637233948271076, 'n_delta': 15, 'n_top': 11, 'delta_std': 0.08644413556949784}. Best is trial 0 with value: -8.9572568.\n",
            "[I 2023-12-31 16:51:28,336] Trial 3 finished with value: -91.89280769999999 and parameters: {'learning_rate': 0.0007858935447865484, 'n_delta': 58, 'n_top': 45, 'delta_std': 4.1478597006039096e-06}. Best is trial 0 with value: -8.9572568.\n",
            "[I 2023-12-31 16:53:37,757] Trial 4 finished with value: -0.9098238999999999 and parameters: {'learning_rate': 0.021129212877861916, 'n_delta': 24, 'n_top': 7, 'delta_std': 0.10995768962728081}. Best is trial 4 with value: -0.9098238999999999.\n",
            "[I 2023-12-31 16:57:49,553] Trial 5 pruned. \n",
            "[I 2023-12-31 16:59:56,813] Trial 6 pruned. \n",
            "[I 2023-12-31 17:04:38,396] Trial 7 pruned. \n",
            "[I 2023-12-31 17:06:41,523] Trial 8 pruned. \n",
            "[I 2023-12-31 17:11:30,652] Trial 9 pruned. \n",
            "[I 2023-12-31 17:13:34,892] Trial 10 pruned. \n",
            "[I 2023-12-31 17:18:18,655] Trial 11 pruned. \n",
            "[I 2023-12-31 17:22:49,738] Trial 12 finished with value: -91.8599759 and parameters: {'learning_rate': 0.06871041027778939, 'n_delta': 63, 'n_top': 41, 'delta_std': 1.1695069175791533e-06}. Best is trial 4 with value: -0.9098238999999999.\n",
            "[I 2023-12-31 17:25:12,306] Trial 13 pruned. \n",
            "[I 2023-12-31 17:29:35,094] Trial 14 pruned. \n",
            "[I 2023-12-31 17:32:04,647] Trial 15 pruned. \n",
            "[I 2023-12-31 17:37:53,299] Trial 16 pruned. \n",
            "[I 2023-12-31 17:39:04,902] Trial 17 pruned. \n",
            "[I 2023-12-31 17:44:51,253] Trial 18 pruned. \n",
            "[I 2023-12-31 17:45:58,529] Trial 19 pruned. \n",
            "[I 2023-12-31 17:51:25,318] Trial 20 pruned. \n",
            "[I 2023-12-31 17:52:47,430] Trial 21 pruned. \n",
            "[I 2023-12-31 17:58:14,266] Trial 22 finished with value: -7.2607973 and parameters: {'learning_rate': 0.013665719223221993, 'n_delta': 15, 'n_top': 10, 'delta_std': 0.046114249081127885}. Best is trial 4 with value: -0.9098238999999999.\n",
            "[I 2023-12-31 18:00:06,481] Trial 23 pruned. \n",
            "[I 2023-12-31 18:05:17,664] Trial 24 pruned. \n",
            "[I 2023-12-31 18:06:53,971] Trial 25 pruned. \n",
            "[I 2023-12-31 18:12:04,409] Trial 26 finished with value: -13.2890589 and parameters: {'learning_rate': 0.0020338076787842748, 'n_delta': 27, 'n_top': 10, 'delta_std': 0.013714689783026791}. Best is trial 4 with value: -0.9098238999999999.\n",
            "[I 2023-12-31 18:13:29,285] Trial 27 pruned. \n",
            "[I 2023-12-31 18:18:50,631] Trial 28 pruned. \n",
            "[I 2023-12-31 18:20:21,830] Trial 29 pruned. \n",
            "[I 2023-12-31 18:26:04,421] Trial 30 finished with value: -12.8552495 and parameters: {'learning_rate': 0.03513930744809064, 'n_delta': 19, 'n_top': 9, 'delta_std': 0.0007314315530373702}. Best is trial 4 with value: -0.9098238999999999.\n",
            "[I 2023-12-31 18:27:58,352] Trial 31 pruned. \n",
            "[I 2023-12-31 18:33:03,899] Trial 32 pruned. \n",
            "[I 2023-12-31 18:35:34,566] Trial 33 pruned. \n",
            "[I 2023-12-31 18:39:41,918] Trial 34 pruned. \n",
            "[I 2023-12-31 18:42:03,242] Trial 35 pruned. \n",
            "[I 2023-12-31 18:48:07,825] Trial 36 pruned. \n",
            "[I 2023-12-31 18:50:18,725] Trial 37 pruned. \n",
            "[I 2023-12-31 18:54:59,926] Trial 38 pruned. \n",
            "[I 2023-12-31 18:57:18,331] Trial 39 finished with value: -1.6730652 and parameters: {'learning_rate': 0.00923662667837148, 'n_delta': 12, 'n_top': 6, 'delta_std': 0.010071206003875644}. Best is trial 4 with value: -0.9098238999999999.\n",
            "[I 2023-12-31 19:01:30,147] Trial 40 pruned. \n",
            "[I 2023-12-31 19:03:57,981] Trial 41 pruned. \n",
            "[I 2023-12-31 19:09:43,777] Trial 42 finished with value: 2.7012033000000004 and parameters: {'learning_rate': 0.022506876282649316, 'n_delta': 22, 'n_top': 5, 'delta_std': 0.026807159851716233}. Best is trial 42 with value: 2.7012033000000004.\n",
            "[I 2023-12-31 19:10:52,949] Trial 43 finished with value: 1.7352174000000002 and parameters: {'learning_rate': 0.008927663383970129, 'n_delta': 22, 'n_top': 4, 'delta_std': 0.02744678177749177}. Best is trial 42 with value: 2.7012033000000004.\n",
            "[I 2023-12-31 19:17:05,844] Trial 44 finished with value: -7.184330600000001 and parameters: {'learning_rate': 0.01070471840812472, 'n_delta': 12, 'n_top': 5, 'delta_std': 0.03748856043792279}. Best is trial 42 with value: 2.7012033000000004.\n",
            "[I 2023-12-31 19:17:29,640] Trial 45 pruned. \n",
            "[I 2023-12-31 19:24:19,785] Trial 47 pruned. \n",
            "[I 2023-12-31 19:24:21,213] Trial 46 pruned. \n",
            "[I 2023-12-31 19:30:37,990] Trial 48 pruned. \n",
            "[I 2023-12-31 19:30:55,406] Trial 49 pruned. \n",
            "[I 2023-12-31 19:37:20,138] Trial 50 pruned. \n",
            "[I 2023-12-31 19:38:36,459] Trial 51 finished with value: 0.14364310000000002 and parameters: {'learning_rate': 0.022060816017244057, 'n_delta': 13, 'n_top': 5, 'delta_std': 0.006459017888607008}. Best is trial 42 with value: 2.7012033000000004.\n",
            "[I 2023-12-31 19:44:08,225] Trial 52 pruned. \n",
            "[I 2023-12-31 19:45:28,187] Trial 53 pruned. \n",
            "[I 2023-12-31 19:52:24,610] Trial 54 pruned. \n",
            "[I 2023-12-31 19:52:26,447] Trial 55 finished with value: 3.6002798999999994 and parameters: {'learning_rate': 0.004770748837092764, 'n_delta': 19, 'n_top': 3, 'delta_std': 0.006952138014079718}. Best is trial 55 with value: 3.6002798999999994.\n",
            "[I 2023-12-31 19:58:57,694] Trial 57 pruned. \n",
            "[I 2023-12-31 19:59:13,530] Trial 56 pruned. \n",
            "[I 2023-12-31 20:06:12,101] Trial 59 pruned. \n",
            "[I 2023-12-31 20:06:13,629] Trial 58 pruned. \n",
            "[I 2023-12-31 20:13:20,893] Trial 60 pruned. \n",
            "[I 2023-12-31 20:13:28,914] Trial 61 finished with value: -2.2124778999999997 and parameters: {'learning_rate': 0.028169210461404005, 'n_delta': 9, 'n_top': 6, 'delta_std': 0.02266862187089463}. Best is trial 55 with value: 3.6002798999999994.\n",
            "[I 2023-12-31 20:20:29,261] Trial 63 pruned. \n",
            "[I 2023-12-31 20:20:47,477] Trial 62 pruned. \n",
            "[I 2023-12-31 20:27:36,184] Trial 64 pruned. \n",
            "[I 2023-12-31 20:28:42,782] Trial 65 pruned. \n",
            "[I 2023-12-31 20:35:21,040] Trial 66 finished with value: 1.1621793 and parameters: {'learning_rate': 0.02519219460977019, 'n_delta': 16, 'n_top': 8, 'delta_std': 0.0059219444769049116}. Best is trial 55 with value: 3.6002798999999994.\n",
            "[I 2023-12-31 20:35:54,769] Trial 67 pruned. \n",
            "[I 2023-12-31 20:43:03,842] Trial 68 pruned. \n",
            "[I 2023-12-31 20:44:43,176] Trial 69 pruned. \n",
            "[I 2023-12-31 20:49:21,402] Trial 70 pruned. \n",
            "[I 2023-12-31 20:52:27,696] Trial 71 pruned. \n",
            "[I 2023-12-31 20:56:12,008] Trial 72 pruned. \n",
            "[I 2023-12-31 20:59:12,913] Trial 73 pruned. \n",
            "[I 2023-12-31 21:02:51,638] Trial 74 finished with value: -22.6242188 and parameters: {'learning_rate': 0.022732618847361732, 'n_delta': 14, 'n_top': 7, 'delta_std': 0.05610559033855233}. Best is trial 55 with value: 3.6002798999999994.\n",
            "[I 2023-12-31 21:06:14,520] Trial 75 pruned. \n",
            "[I 2023-12-31 21:10:19,363] Trial 76 finished with value: -0.5059662 and parameters: {'learning_rate': 0.0068577173714578325, 'n_delta': 18, 'n_top': 6, 'delta_std': 0.003317843771526438}. Best is trial 55 with value: 3.6002798999999994.\n",
            "[I 2023-12-31 21:13:40,446] Trial 77 finished with value: -6.068655000000001 and parameters: {'learning_rate': 0.027934995915276588, 'n_delta': 18, 'n_top': 6, 'delta_std': 0.0030095894883360825}. Best is trial 55 with value: 3.6002798999999994.\n",
            "[I 2023-12-31 21:17:37,346] Trial 78 pruned. \n",
            "[I 2023-12-31 21:20:15,638] Trial 79 pruned. \n",
            "[I 2023-12-31 21:25:53,065] Trial 80 pruned. \n",
            "[I 2023-12-31 21:26:54,020] Trial 81 pruned. \n",
            "[I 2023-12-31 21:33:12,577] Trial 82 finished with value: 1.6092777999999999 and parameters: {'learning_rate': 0.008195674073390573, 'n_delta': 15, 'n_top': 6, 'delta_std': 0.017366286563989707}. Best is trial 55 with value: 3.6002798999999994.\n",
            "[I 2023-12-31 21:33:41,321] Trial 83 pruned. \n",
            "[I 2023-12-31 21:40:22,003] Trial 85 pruned. \n",
            "[I 2023-12-31 21:40:47,125] Trial 84 finished with value: 0.8642439 and parameters: {'learning_rate': 0.008431959987030955, 'n_delta': 16, 'n_top': 8, 'delta_std': 0.017254476200003987}. Best is trial 55 with value: 3.6002798999999994.\n",
            "[I 2023-12-31 21:48:29,373] Trial 87 finished with value: 0.28632460000000004 and parameters: {'learning_rate': 0.018773598002787877, 'n_delta': 23, 'n_top': 11, 'delta_std': 0.006326997870966286}. Best is trial 55 with value: 3.6002798999999994.\n",
            "[I 2023-12-31 21:49:40,146] Trial 86 pruned. \n",
            "[I 2023-12-31 21:56:19,338] Trial 88 pruned. \n",
            "[I 2023-12-31 21:56:54,856] Trial 89 pruned. \n",
            "[I 2023-12-31 22:04:17,076] Trial 90 pruned. \n",
            "[I 2023-12-31 22:04:25,874] Trial 91 pruned. \n",
            "[I 2023-12-31 22:11:37,003] Trial 93 pruned. \n",
            "[I 2023-12-31 22:12:07,520] Trial 92 pruned. \n",
            "[I 2023-12-31 22:18:54,000] Trial 94 pruned. \n",
            "[I 2023-12-31 22:19:35,054] Trial 95 pruned. \n",
            "[I 2023-12-31 22:25:25,924] Trial 96 pruned. \n",
            "[I 2023-12-31 22:26:07,513] Trial 97 pruned. \n",
            "[I 2023-12-31 22:31:57,758] Trial 98 pruned. \n",
            "[I 2023-12-31 22:32:22,584] Trial 99 pruned. \n"
          ]
        },
        {
          "name": "stdout",
          "output_type": "stream",
          "text": [
            "Number of finished trials:  100\n",
            "Best trial:\n",
            "  Value: 3.6002798999999994\n",
            "  Params: \n",
            "    learning_rate: 0.004770748837092764\n",
            "    n_delta: 19\n",
            "    n_top: 3\n",
            "    delta_std: 0.006952138014079718\n",
            "  User attrs:\n"
          ]
        },
        {
          "data": {
            "text/html": [
              "<html>\n",
              "<head><meta charset=\"utf-8\" /></head>\n",
              "<body>\n",
              "    <div>            <script src=\"https://cdnjs.cloudflare.com/ajax/libs/mathjax/2.7.5/MathJax.js?config=TeX-AMS-MML_SVG\"></script><script type=\"text/javascript\">if (window.MathJax && window.MathJax.Hub && window.MathJax.Hub.Config) {window.MathJax.Hub.Config({SVG: {font: \"STIX-Web\"}});}</script>                <script type=\"text/javascript\">window.PlotlyConfig = {MathJaxConfig: 'local'};</script>\n",
              "        <script charset=\"utf-8\" src=\"https://cdn.plot.ly/plotly-2.24.1.min.js\"></script>                <div id=\"dd873891-68fa-444c-a235-7a2b082d1afb\" class=\"plotly-graph-div\" style=\"height:525px; width:100%;\"></div>            <script type=\"text/javascript\">                                    window.PLOTLYENV=window.PLOTLYENV || {};                                    if (document.getElementById(\"dd873891-68fa-444c-a235-7a2b082d1afb\")) {                    Plotly.newPlot(                        \"dd873891-68fa-444c-a235-7a2b082d1afb\",                        [{\"mode\":\"markers\",\"name\":\"Objective Value\",\"x\":[0,1,2,3,4,12,22,26,30,39,42,43,44,51,55,61,66,74,76,77,82,84,87],\"y\":[-8.9572568,-91.95766819999999,-16.0622056,-91.89280769999999,-0.9098238999999999,-91.8599759,-7.2607973,-13.2890589,-12.8552495,-1.6730652,2.7012033000000004,1.7352174000000002,-7.184330600000001,0.14364310000000002,3.6002798999999994,-2.2124778999999997,1.1621793,-22.6242188,-0.5059662,-6.068655000000001,1.6092777999999999,0.8642439,0.28632460000000004],\"type\":\"scatter\"},{\"mode\":\"lines\",\"name\":\"Best Value\",\"x\":[0,1,2,3,4,5,6,7,8,9,10,11,12,13,14,15,16,17,18,19,20,21,22,23,24,25,26,27,28,29,30,31,32,33,34,35,36,37,38,39,40,41,42,43,44,45,46,47,48,49,50,51,52,53,54,55,56,57,58,59,60,61,62,63,64,65,66,67,68,69,70,71,72,73,74,75,76,77,78,79,80,81,82,83,84,85,86,87,88,89,90,91,92,93,94,95,96,97,98,99],\"y\":[-8.9572568,-8.9572568,-8.9572568,-8.9572568,-0.9098238999999999,-0.9098238999999999,-0.9098238999999999,-0.9098238999999999,-0.9098238999999999,-0.9098238999999999,-0.9098238999999999,-0.9098238999999999,-0.9098238999999999,-0.9098238999999999,-0.9098238999999999,-0.9098238999999999,-0.9098238999999999,-0.9098238999999999,-0.9098238999999999,-0.9098238999999999,-0.9098238999999999,-0.9098238999999999,-0.9098238999999999,-0.9098238999999999,-0.9098238999999999,-0.9098238999999999,-0.9098238999999999,-0.9098238999999999,-0.9098238999999999,-0.9098238999999999,-0.9098238999999999,-0.9098238999999999,-0.9098238999999999,-0.9098238999999999,-0.9098238999999999,-0.9098238999999999,-0.9098238999999999,-0.9098238999999999,-0.9098238999999999,-0.9098238999999999,-0.9098238999999999,-0.9098238999999999,2.7012033000000004,2.7012033000000004,2.7012033000000004,2.7012033000000004,2.7012033000000004,2.7012033000000004,2.7012033000000004,2.7012033000000004,2.7012033000000004,2.7012033000000004,2.7012033000000004,2.7012033000000004,2.7012033000000004,3.6002798999999994,3.6002798999999994,3.6002798999999994,3.6002798999999994,3.6002798999999994,3.6002798999999994,3.6002798999999994,3.6002798999999994,3.6002798999999994,3.6002798999999994,3.6002798999999994,3.6002798999999994,3.6002798999999994,3.6002798999999994,3.6002798999999994,3.6002798999999994,3.6002798999999994,3.6002798999999994,3.6002798999999994,3.6002798999999994,3.6002798999999994,3.6002798999999994,3.6002798999999994,3.6002798999999994,3.6002798999999994,3.6002798999999994,3.6002798999999994,3.6002798999999994,3.6002798999999994,3.6002798999999994,3.6002798999999994,3.6002798999999994,3.6002798999999994,3.6002798999999994,3.6002798999999994,3.6002798999999994,3.6002798999999994,3.6002798999999994,3.6002798999999994,3.6002798999999994,3.6002798999999994,3.6002798999999994,3.6002798999999994,3.6002798999999994,3.6002798999999994],\"type\":\"scatter\"},{\"marker\":{\"color\":\"#cccccc\"},\"mode\":\"markers\",\"name\":\"Infeasible Trial\",\"showlegend\":false,\"x\":[],\"y\":[],\"type\":\"scatter\"}],                        {\"title\":{\"text\":\"Optimization History Plot\"},\"xaxis\":{\"title\":{\"text\":\"Trial\"}},\"yaxis\":{\"title\":{\"text\":\"Objective Value\"}},\"template\":{\"data\":{\"histogram2dcontour\":[{\"type\":\"histogram2dcontour\",\"colorbar\":{\"outlinewidth\":0,\"ticks\":\"\"},\"colorscale\":[[0.0,\"#0d0887\"],[0.1111111111111111,\"#46039f\"],[0.2222222222222222,\"#7201a8\"],[0.3333333333333333,\"#9c179e\"],[0.4444444444444444,\"#bd3786\"],[0.5555555555555556,\"#d8576b\"],[0.6666666666666666,\"#ed7953\"],[0.7777777777777778,\"#fb9f3a\"],[0.8888888888888888,\"#fdca26\"],[1.0,\"#f0f921\"]]}],\"choropleth\":[{\"type\":\"choropleth\",\"colorbar\":{\"outlinewidth\":0,\"ticks\":\"\"}}],\"histogram2d\":[{\"type\":\"histogram2d\",\"colorbar\":{\"outlinewidth\":0,\"ticks\":\"\"},\"colorscale\":[[0.0,\"#0d0887\"],[0.1111111111111111,\"#46039f\"],[0.2222222222222222,\"#7201a8\"],[0.3333333333333333,\"#9c179e\"],[0.4444444444444444,\"#bd3786\"],[0.5555555555555556,\"#d8576b\"],[0.6666666666666666,\"#ed7953\"],[0.7777777777777778,\"#fb9f3a\"],[0.8888888888888888,\"#fdca26\"],[1.0,\"#f0f921\"]]}],\"heatmap\":[{\"type\":\"heatmap\",\"colorbar\":{\"outlinewidth\":0,\"ticks\":\"\"},\"colorscale\":[[0.0,\"#0d0887\"],[0.1111111111111111,\"#46039f\"],[0.2222222222222222,\"#7201a8\"],[0.3333333333333333,\"#9c179e\"],[0.4444444444444444,\"#bd3786\"],[0.5555555555555556,\"#d8576b\"],[0.6666666666666666,\"#ed7953\"],[0.7777777777777778,\"#fb9f3a\"],[0.8888888888888888,\"#fdca26\"],[1.0,\"#f0f921\"]]}],\"heatmapgl\":[{\"type\":\"heatmapgl\",\"colorbar\":{\"outlinewidth\":0,\"ticks\":\"\"},\"colorscale\":[[0.0,\"#0d0887\"],[0.1111111111111111,\"#46039f\"],[0.2222222222222222,\"#7201a8\"],[0.3333333333333333,\"#9c179e\"],[0.4444444444444444,\"#bd3786\"],[0.5555555555555556,\"#d8576b\"],[0.6666666666666666,\"#ed7953\"],[0.7777777777777778,\"#fb9f3a\"],[0.8888888888888888,\"#fdca26\"],[1.0,\"#f0f921\"]]}],\"contourcarpet\":[{\"type\":\"contourcarpet\",\"colorbar\":{\"outlinewidth\":0,\"ticks\":\"\"}}],\"contour\":[{\"type\":\"contour\",\"colorbar\":{\"outlinewidth\":0,\"ticks\":\"\"},\"colorscale\":[[0.0,\"#0d0887\"],[0.1111111111111111,\"#46039f\"],[0.2222222222222222,\"#7201a8\"],[0.3333333333333333,\"#9c179e\"],[0.4444444444444444,\"#bd3786\"],[0.5555555555555556,\"#d8576b\"],[0.6666666666666666,\"#ed7953\"],[0.7777777777777778,\"#fb9f3a\"],[0.8888888888888888,\"#fdca26\"],[1.0,\"#f0f921\"]]}],\"surface\":[{\"type\":\"surface\",\"colorbar\":{\"outlinewidth\":0,\"ticks\":\"\"},\"colorscale\":[[0.0,\"#0d0887\"],[0.1111111111111111,\"#46039f\"],[0.2222222222222222,\"#7201a8\"],[0.3333333333333333,\"#9c179e\"],[0.4444444444444444,\"#bd3786\"],[0.5555555555555556,\"#d8576b\"],[0.6666666666666666,\"#ed7953\"],[0.7777777777777778,\"#fb9f3a\"],[0.8888888888888888,\"#fdca26\"],[1.0,\"#f0f921\"]]}],\"mesh3d\":[{\"type\":\"mesh3d\",\"colorbar\":{\"outlinewidth\":0,\"ticks\":\"\"}}],\"scatter\":[{\"fillpattern\":{\"fillmode\":\"overlay\",\"size\":10,\"solidity\":0.2},\"type\":\"scatter\"}],\"parcoords\":[{\"type\":\"parcoords\",\"line\":{\"colorbar\":{\"outlinewidth\":0,\"ticks\":\"\"}}}],\"scatterpolargl\":[{\"type\":\"scatterpolargl\",\"marker\":{\"colorbar\":{\"outlinewidth\":0,\"ticks\":\"\"}}}],\"bar\":[{\"error_x\":{\"color\":\"#2a3f5f\"},\"error_y\":{\"color\":\"#2a3f5f\"},\"marker\":{\"line\":{\"color\":\"#E5ECF6\",\"width\":0.5},\"pattern\":{\"fillmode\":\"overlay\",\"size\":10,\"solidity\":0.2}},\"type\":\"bar\"}],\"scattergeo\":[{\"type\":\"scattergeo\",\"marker\":{\"colorbar\":{\"outlinewidth\":0,\"ticks\":\"\"}}}],\"scatterpolar\":[{\"type\":\"scatterpolar\",\"marker\":{\"colorbar\":{\"outlinewidth\":0,\"ticks\":\"\"}}}],\"histogram\":[{\"marker\":{\"pattern\":{\"fillmode\":\"overlay\",\"size\":10,\"solidity\":0.2}},\"type\":\"histogram\"}],\"scattergl\":[{\"type\":\"scattergl\",\"marker\":{\"colorbar\":{\"outlinewidth\":0,\"ticks\":\"\"}}}],\"scatter3d\":[{\"type\":\"scatter3d\",\"line\":{\"colorbar\":{\"outlinewidth\":0,\"ticks\":\"\"}},\"marker\":{\"colorbar\":{\"outlinewidth\":0,\"ticks\":\"\"}}}],\"scattermapbox\":[{\"type\":\"scattermapbox\",\"marker\":{\"colorbar\":{\"outlinewidth\":0,\"ticks\":\"\"}}}],\"scatterternary\":[{\"type\":\"scatterternary\",\"marker\":{\"colorbar\":{\"outlinewidth\":0,\"ticks\":\"\"}}}],\"scattercarpet\":[{\"type\":\"scattercarpet\",\"marker\":{\"colorbar\":{\"outlinewidth\":0,\"ticks\":\"\"}}}],\"carpet\":[{\"aaxis\":{\"endlinecolor\":\"#2a3f5f\",\"gridcolor\":\"white\",\"linecolor\":\"white\",\"minorgridcolor\":\"white\",\"startlinecolor\":\"#2a3f5f\"},\"baxis\":{\"endlinecolor\":\"#2a3f5f\",\"gridcolor\":\"white\",\"linecolor\":\"white\",\"minorgridcolor\":\"white\",\"startlinecolor\":\"#2a3f5f\"},\"type\":\"carpet\"}],\"table\":[{\"cells\":{\"fill\":{\"color\":\"#EBF0F8\"},\"line\":{\"color\":\"white\"}},\"header\":{\"fill\":{\"color\":\"#C8D4E3\"},\"line\":{\"color\":\"white\"}},\"type\":\"table\"}],\"barpolar\":[{\"marker\":{\"line\":{\"color\":\"#E5ECF6\",\"width\":0.5},\"pattern\":{\"fillmode\":\"overlay\",\"size\":10,\"solidity\":0.2}},\"type\":\"barpolar\"}],\"pie\":[{\"automargin\":true,\"type\":\"pie\"}]},\"layout\":{\"autotypenumbers\":\"strict\",\"colorway\":[\"#636efa\",\"#EF553B\",\"#00cc96\",\"#ab63fa\",\"#FFA15A\",\"#19d3f3\",\"#FF6692\",\"#B6E880\",\"#FF97FF\",\"#FECB52\"],\"font\":{\"color\":\"#2a3f5f\"},\"hovermode\":\"closest\",\"hoverlabel\":{\"align\":\"left\"},\"paper_bgcolor\":\"white\",\"plot_bgcolor\":\"#E5ECF6\",\"polar\":{\"bgcolor\":\"#E5ECF6\",\"angularaxis\":{\"gridcolor\":\"white\",\"linecolor\":\"white\",\"ticks\":\"\"},\"radialaxis\":{\"gridcolor\":\"white\",\"linecolor\":\"white\",\"ticks\":\"\"}},\"ternary\":{\"bgcolor\":\"#E5ECF6\",\"aaxis\":{\"gridcolor\":\"white\",\"linecolor\":\"white\",\"ticks\":\"\"},\"baxis\":{\"gridcolor\":\"white\",\"linecolor\":\"white\",\"ticks\":\"\"},\"caxis\":{\"gridcolor\":\"white\",\"linecolor\":\"white\",\"ticks\":\"\"}},\"coloraxis\":{\"colorbar\":{\"outlinewidth\":0,\"ticks\":\"\"}},\"colorscale\":{\"sequential\":[[0.0,\"#0d0887\"],[0.1111111111111111,\"#46039f\"],[0.2222222222222222,\"#7201a8\"],[0.3333333333333333,\"#9c179e\"],[0.4444444444444444,\"#bd3786\"],[0.5555555555555556,\"#d8576b\"],[0.6666666666666666,\"#ed7953\"],[0.7777777777777778,\"#fb9f3a\"],[0.8888888888888888,\"#fdca26\"],[1.0,\"#f0f921\"]],\"sequentialminus\":[[0.0,\"#0d0887\"],[0.1111111111111111,\"#46039f\"],[0.2222222222222222,\"#7201a8\"],[0.3333333333333333,\"#9c179e\"],[0.4444444444444444,\"#bd3786\"],[0.5555555555555556,\"#d8576b\"],[0.6666666666666666,\"#ed7953\"],[0.7777777777777778,\"#fb9f3a\"],[0.8888888888888888,\"#fdca26\"],[1.0,\"#f0f921\"]],\"diverging\":[[0,\"#8e0152\"],[0.1,\"#c51b7d\"],[0.2,\"#de77ae\"],[0.3,\"#f1b6da\"],[0.4,\"#fde0ef\"],[0.5,\"#f7f7f7\"],[0.6,\"#e6f5d0\"],[0.7,\"#b8e186\"],[0.8,\"#7fbc41\"],[0.9,\"#4d9221\"],[1,\"#276419\"]]},\"xaxis\":{\"gridcolor\":\"white\",\"linecolor\":\"white\",\"ticks\":\"\",\"title\":{\"standoff\":15},\"zerolinecolor\":\"white\",\"automargin\":true,\"zerolinewidth\":2},\"yaxis\":{\"gridcolor\":\"white\",\"linecolor\":\"white\",\"ticks\":\"\",\"title\":{\"standoff\":15},\"zerolinecolor\":\"white\",\"automargin\":true,\"zerolinewidth\":2},\"scene\":{\"xaxis\":{\"backgroundcolor\":\"#E5ECF6\",\"gridcolor\":\"white\",\"linecolor\":\"white\",\"showbackground\":true,\"ticks\":\"\",\"zerolinecolor\":\"white\",\"gridwidth\":2},\"yaxis\":{\"backgroundcolor\":\"#E5ECF6\",\"gridcolor\":\"white\",\"linecolor\":\"white\",\"showbackground\":true,\"ticks\":\"\",\"zerolinecolor\":\"white\",\"gridwidth\":2},\"zaxis\":{\"backgroundcolor\":\"#E5ECF6\",\"gridcolor\":\"white\",\"linecolor\":\"white\",\"showbackground\":true,\"ticks\":\"\",\"zerolinecolor\":\"white\",\"gridwidth\":2}},\"shapedefaults\":{\"line\":{\"color\":\"#2a3f5f\"}},\"annotationdefaults\":{\"arrowcolor\":\"#2a3f5f\",\"arrowhead\":0,\"arrowwidth\":1},\"geo\":{\"bgcolor\":\"white\",\"landcolor\":\"#E5ECF6\",\"subunitcolor\":\"white\",\"showland\":true,\"showlakes\":true,\"lakecolor\":\"white\"},\"title\":{\"x\":0.05},\"mapbox\":{\"style\":\"light\"}}}},                        {\"responsive\": true}                    ).then(function(){\n",
              "                            \n",
              "var gd = document.getElementById('dd873891-68fa-444c-a235-7a2b082d1afb');\n",
              "var x = new MutationObserver(function (mutations, observer) {{\n",
              "        var display = window.getComputedStyle(gd).display;\n",
              "        if (!display || display === 'none') {{\n",
              "            console.log([gd, 'removed!']);\n",
              "            Plotly.purge(gd);\n",
              "            observer.disconnect();\n",
              "        }}\n",
              "}});\n",
              "\n",
              "// Listen for the removal of the full notebook cells\n",
              "var notebookContainer = gd.closest('#notebook-container');\n",
              "if (notebookContainer) {{\n",
              "    x.observe(notebookContainer, {childList: true});\n",
              "}}\n",
              "\n",
              "// Listen for the clearing of the current output cell\n",
              "var outputEl = gd.closest('.output');\n",
              "if (outputEl) {{\n",
              "    x.observe(outputEl, {childList: true});\n",
              "}}\n",
              "\n",
              "                        })                };                            </script>        </div>\n",
              "</body>\n",
              "</html>"
            ]
          },
          "metadata": {},
          "output_type": "display_data"
        },
        {
          "data": {
            "text/html": [
              "<html>\n",
              "<head><meta charset=\"utf-8\" /></head>\n",
              "<body>\n",
              "    <div>            <script src=\"https://cdnjs.cloudflare.com/ajax/libs/mathjax/2.7.5/MathJax.js?config=TeX-AMS-MML_SVG\"></script><script type=\"text/javascript\">if (window.MathJax && window.MathJax.Hub && window.MathJax.Hub.Config) {window.MathJax.Hub.Config({SVG: {font: \"STIX-Web\"}});}</script>                <script type=\"text/javascript\">window.PlotlyConfig = {MathJaxConfig: 'local'};</script>\n",
              "        <script charset=\"utf-8\" src=\"https://cdn.plot.ly/plotly-2.24.1.min.js\"></script>                <div id=\"9e3a3797-126e-48fc-8cca-f1ebb33f901b\" class=\"plotly-graph-div\" style=\"height:525px; width:100%;\"></div>            <script type=\"text/javascript\">                                    window.PLOTLYENV=window.PLOTLYENV || {};                                    if (document.getElementById(\"9e3a3797-126e-48fc-8cca-f1ebb33f901b\")) {                    Plotly.newPlot(                        \"9e3a3797-126e-48fc-8cca-f1ebb33f901b\",                        [{\"cliponaxis\":false,\"hovertemplate\":[\"delta_std (FloatDistribution): 0.22505959735721104\\u003cextra\\u003e\\u003c\\u002fextra\\u003e\",\"learning_rate (FloatDistribution): 0.2579406786490357\\u003cextra\\u003e\\u003c\\u002fextra\\u003e\",\"n_delta (IntDistribution): 0.5169997239937533\\u003cextra\\u003e\\u003c\\u002fextra\\u003e\"],\"name\":\"Objective Value\",\"orientation\":\"h\",\"text\":[\"0.23\",\"0.26\",\"0.52\"],\"textposition\":\"outside\",\"x\":[0.22505959735721104,0.2579406786490357,0.5169997239937533],\"y\":[\"delta_std\",\"learning_rate\",\"n_delta\"],\"type\":\"bar\"}],                        {\"title\":{\"text\":\"Hyperparameter Importances\"},\"xaxis\":{\"title\":{\"text\":\"Hyperparameter Importance\"}},\"yaxis\":{\"title\":{\"text\":\"Hyperparameter\"}},\"template\":{\"data\":{\"histogram2dcontour\":[{\"type\":\"histogram2dcontour\",\"colorbar\":{\"outlinewidth\":0,\"ticks\":\"\"},\"colorscale\":[[0.0,\"#0d0887\"],[0.1111111111111111,\"#46039f\"],[0.2222222222222222,\"#7201a8\"],[0.3333333333333333,\"#9c179e\"],[0.4444444444444444,\"#bd3786\"],[0.5555555555555556,\"#d8576b\"],[0.6666666666666666,\"#ed7953\"],[0.7777777777777778,\"#fb9f3a\"],[0.8888888888888888,\"#fdca26\"],[1.0,\"#f0f921\"]]}],\"choropleth\":[{\"type\":\"choropleth\",\"colorbar\":{\"outlinewidth\":0,\"ticks\":\"\"}}],\"histogram2d\":[{\"type\":\"histogram2d\",\"colorbar\":{\"outlinewidth\":0,\"ticks\":\"\"},\"colorscale\":[[0.0,\"#0d0887\"],[0.1111111111111111,\"#46039f\"],[0.2222222222222222,\"#7201a8\"],[0.3333333333333333,\"#9c179e\"],[0.4444444444444444,\"#bd3786\"],[0.5555555555555556,\"#d8576b\"],[0.6666666666666666,\"#ed7953\"],[0.7777777777777778,\"#fb9f3a\"],[0.8888888888888888,\"#fdca26\"],[1.0,\"#f0f921\"]]}],\"heatmap\":[{\"type\":\"heatmap\",\"colorbar\":{\"outlinewidth\":0,\"ticks\":\"\"},\"colorscale\":[[0.0,\"#0d0887\"],[0.1111111111111111,\"#46039f\"],[0.2222222222222222,\"#7201a8\"],[0.3333333333333333,\"#9c179e\"],[0.4444444444444444,\"#bd3786\"],[0.5555555555555556,\"#d8576b\"],[0.6666666666666666,\"#ed7953\"],[0.7777777777777778,\"#fb9f3a\"],[0.8888888888888888,\"#fdca26\"],[1.0,\"#f0f921\"]]}],\"heatmapgl\":[{\"type\":\"heatmapgl\",\"colorbar\":{\"outlinewidth\":0,\"ticks\":\"\"},\"colorscale\":[[0.0,\"#0d0887\"],[0.1111111111111111,\"#46039f\"],[0.2222222222222222,\"#7201a8\"],[0.3333333333333333,\"#9c179e\"],[0.4444444444444444,\"#bd3786\"],[0.5555555555555556,\"#d8576b\"],[0.6666666666666666,\"#ed7953\"],[0.7777777777777778,\"#fb9f3a\"],[0.8888888888888888,\"#fdca26\"],[1.0,\"#f0f921\"]]}],\"contourcarpet\":[{\"type\":\"contourcarpet\",\"colorbar\":{\"outlinewidth\":0,\"ticks\":\"\"}}],\"contour\":[{\"type\":\"contour\",\"colorbar\":{\"outlinewidth\":0,\"ticks\":\"\"},\"colorscale\":[[0.0,\"#0d0887\"],[0.1111111111111111,\"#46039f\"],[0.2222222222222222,\"#7201a8\"],[0.3333333333333333,\"#9c179e\"],[0.4444444444444444,\"#bd3786\"],[0.5555555555555556,\"#d8576b\"],[0.6666666666666666,\"#ed7953\"],[0.7777777777777778,\"#fb9f3a\"],[0.8888888888888888,\"#fdca26\"],[1.0,\"#f0f921\"]]}],\"surface\":[{\"type\":\"surface\",\"colorbar\":{\"outlinewidth\":0,\"ticks\":\"\"},\"colorscale\":[[0.0,\"#0d0887\"],[0.1111111111111111,\"#46039f\"],[0.2222222222222222,\"#7201a8\"],[0.3333333333333333,\"#9c179e\"],[0.4444444444444444,\"#bd3786\"],[0.5555555555555556,\"#d8576b\"],[0.6666666666666666,\"#ed7953\"],[0.7777777777777778,\"#fb9f3a\"],[0.8888888888888888,\"#fdca26\"],[1.0,\"#f0f921\"]]}],\"mesh3d\":[{\"type\":\"mesh3d\",\"colorbar\":{\"outlinewidth\":0,\"ticks\":\"\"}}],\"scatter\":[{\"fillpattern\":{\"fillmode\":\"overlay\",\"size\":10,\"solidity\":0.2},\"type\":\"scatter\"}],\"parcoords\":[{\"type\":\"parcoords\",\"line\":{\"colorbar\":{\"outlinewidth\":0,\"ticks\":\"\"}}}],\"scatterpolargl\":[{\"type\":\"scatterpolargl\",\"marker\":{\"colorbar\":{\"outlinewidth\":0,\"ticks\":\"\"}}}],\"bar\":[{\"error_x\":{\"color\":\"#2a3f5f\"},\"error_y\":{\"color\":\"#2a3f5f\"},\"marker\":{\"line\":{\"color\":\"#E5ECF6\",\"width\":0.5},\"pattern\":{\"fillmode\":\"overlay\",\"size\":10,\"solidity\":0.2}},\"type\":\"bar\"}],\"scattergeo\":[{\"type\":\"scattergeo\",\"marker\":{\"colorbar\":{\"outlinewidth\":0,\"ticks\":\"\"}}}],\"scatterpolar\":[{\"type\":\"scatterpolar\",\"marker\":{\"colorbar\":{\"outlinewidth\":0,\"ticks\":\"\"}}}],\"histogram\":[{\"marker\":{\"pattern\":{\"fillmode\":\"overlay\",\"size\":10,\"solidity\":0.2}},\"type\":\"histogram\"}],\"scattergl\":[{\"type\":\"scattergl\",\"marker\":{\"colorbar\":{\"outlinewidth\":0,\"ticks\":\"\"}}}],\"scatter3d\":[{\"type\":\"scatter3d\",\"line\":{\"colorbar\":{\"outlinewidth\":0,\"ticks\":\"\"}},\"marker\":{\"colorbar\":{\"outlinewidth\":0,\"ticks\":\"\"}}}],\"scattermapbox\":[{\"type\":\"scattermapbox\",\"marker\":{\"colorbar\":{\"outlinewidth\":0,\"ticks\":\"\"}}}],\"scatterternary\":[{\"type\":\"scatterternary\",\"marker\":{\"colorbar\":{\"outlinewidth\":0,\"ticks\":\"\"}}}],\"scattercarpet\":[{\"type\":\"scattercarpet\",\"marker\":{\"colorbar\":{\"outlinewidth\":0,\"ticks\":\"\"}}}],\"carpet\":[{\"aaxis\":{\"endlinecolor\":\"#2a3f5f\",\"gridcolor\":\"white\",\"linecolor\":\"white\",\"minorgridcolor\":\"white\",\"startlinecolor\":\"#2a3f5f\"},\"baxis\":{\"endlinecolor\":\"#2a3f5f\",\"gridcolor\":\"white\",\"linecolor\":\"white\",\"minorgridcolor\":\"white\",\"startlinecolor\":\"#2a3f5f\"},\"type\":\"carpet\"}],\"table\":[{\"cells\":{\"fill\":{\"color\":\"#EBF0F8\"},\"line\":{\"color\":\"white\"}},\"header\":{\"fill\":{\"color\":\"#C8D4E3\"},\"line\":{\"color\":\"white\"}},\"type\":\"table\"}],\"barpolar\":[{\"marker\":{\"line\":{\"color\":\"#E5ECF6\",\"width\":0.5},\"pattern\":{\"fillmode\":\"overlay\",\"size\":10,\"solidity\":0.2}},\"type\":\"barpolar\"}],\"pie\":[{\"automargin\":true,\"type\":\"pie\"}]},\"layout\":{\"autotypenumbers\":\"strict\",\"colorway\":[\"#636efa\",\"#EF553B\",\"#00cc96\",\"#ab63fa\",\"#FFA15A\",\"#19d3f3\",\"#FF6692\",\"#B6E880\",\"#FF97FF\",\"#FECB52\"],\"font\":{\"color\":\"#2a3f5f\"},\"hovermode\":\"closest\",\"hoverlabel\":{\"align\":\"left\"},\"paper_bgcolor\":\"white\",\"plot_bgcolor\":\"#E5ECF6\",\"polar\":{\"bgcolor\":\"#E5ECF6\",\"angularaxis\":{\"gridcolor\":\"white\",\"linecolor\":\"white\",\"ticks\":\"\"},\"radialaxis\":{\"gridcolor\":\"white\",\"linecolor\":\"white\",\"ticks\":\"\"}},\"ternary\":{\"bgcolor\":\"#E5ECF6\",\"aaxis\":{\"gridcolor\":\"white\",\"linecolor\":\"white\",\"ticks\":\"\"},\"baxis\":{\"gridcolor\":\"white\",\"linecolor\":\"white\",\"ticks\":\"\"},\"caxis\":{\"gridcolor\":\"white\",\"linecolor\":\"white\",\"ticks\":\"\"}},\"coloraxis\":{\"colorbar\":{\"outlinewidth\":0,\"ticks\":\"\"}},\"colorscale\":{\"sequential\":[[0.0,\"#0d0887\"],[0.1111111111111111,\"#46039f\"],[0.2222222222222222,\"#7201a8\"],[0.3333333333333333,\"#9c179e\"],[0.4444444444444444,\"#bd3786\"],[0.5555555555555556,\"#d8576b\"],[0.6666666666666666,\"#ed7953\"],[0.7777777777777778,\"#fb9f3a\"],[0.8888888888888888,\"#fdca26\"],[1.0,\"#f0f921\"]],\"sequentialminus\":[[0.0,\"#0d0887\"],[0.1111111111111111,\"#46039f\"],[0.2222222222222222,\"#7201a8\"],[0.3333333333333333,\"#9c179e\"],[0.4444444444444444,\"#bd3786\"],[0.5555555555555556,\"#d8576b\"],[0.6666666666666666,\"#ed7953\"],[0.7777777777777778,\"#fb9f3a\"],[0.8888888888888888,\"#fdca26\"],[1.0,\"#f0f921\"]],\"diverging\":[[0,\"#8e0152\"],[0.1,\"#c51b7d\"],[0.2,\"#de77ae\"],[0.3,\"#f1b6da\"],[0.4,\"#fde0ef\"],[0.5,\"#f7f7f7\"],[0.6,\"#e6f5d0\"],[0.7,\"#b8e186\"],[0.8,\"#7fbc41\"],[0.9,\"#4d9221\"],[1,\"#276419\"]]},\"xaxis\":{\"gridcolor\":\"white\",\"linecolor\":\"white\",\"ticks\":\"\",\"title\":{\"standoff\":15},\"zerolinecolor\":\"white\",\"automargin\":true,\"zerolinewidth\":2},\"yaxis\":{\"gridcolor\":\"white\",\"linecolor\":\"white\",\"ticks\":\"\",\"title\":{\"standoff\":15},\"zerolinecolor\":\"white\",\"automargin\":true,\"zerolinewidth\":2},\"scene\":{\"xaxis\":{\"backgroundcolor\":\"#E5ECF6\",\"gridcolor\":\"white\",\"linecolor\":\"white\",\"showbackground\":true,\"ticks\":\"\",\"zerolinecolor\":\"white\",\"gridwidth\":2},\"yaxis\":{\"backgroundcolor\":\"#E5ECF6\",\"gridcolor\":\"white\",\"linecolor\":\"white\",\"showbackground\":true,\"ticks\":\"\",\"zerolinecolor\":\"white\",\"gridwidth\":2},\"zaxis\":{\"backgroundcolor\":\"#E5ECF6\",\"gridcolor\":\"white\",\"linecolor\":\"white\",\"showbackground\":true,\"ticks\":\"\",\"zerolinecolor\":\"white\",\"gridwidth\":2}},\"shapedefaults\":{\"line\":{\"color\":\"#2a3f5f\"}},\"annotationdefaults\":{\"arrowcolor\":\"#2a3f5f\",\"arrowhead\":0,\"arrowwidth\":1},\"geo\":{\"bgcolor\":\"white\",\"landcolor\":\"#E5ECF6\",\"subunitcolor\":\"white\",\"showland\":true,\"showlakes\":true,\"lakecolor\":\"white\"},\"title\":{\"x\":0.05},\"mapbox\":{\"style\":\"light\"}}}},                        {\"responsive\": true}                    ).then(function(){\n",
              "                            \n",
              "var gd = document.getElementById('9e3a3797-126e-48fc-8cca-f1ebb33f901b');\n",
              "var x = new MutationObserver(function (mutations, observer) {{\n",
              "        var display = window.getComputedStyle(gd).display;\n",
              "        if (!display || display === 'none') {{\n",
              "            console.log([gd, 'removed!']);\n",
              "            Plotly.purge(gd);\n",
              "            observer.disconnect();\n",
              "        }}\n",
              "}});\n",
              "\n",
              "// Listen for the removal of the full notebook cells\n",
              "var notebookContainer = gd.closest('#notebook-container');\n",
              "if (notebookContainer) {{\n",
              "    x.observe(notebookContainer, {childList: true});\n",
              "}}\n",
              "\n",
              "// Listen for the clearing of the current output cell\n",
              "var outputEl = gd.closest('.output');\n",
              "if (outputEl) {{\n",
              "    x.observe(outputEl, {childList: true});\n",
              "}}\n",
              "\n",
              "                        })                };                            </script>        </div>\n",
              "</body>\n",
              "</html>"
            ]
          },
          "metadata": {},
          "output_type": "display_data"
        }
      ],
      "source": [
        "study = optuna.create_study(sampler=sampler, pruner=pruner, direction=\"maximize\")\n",
        "try:\n",
        "    study.optimize(objective, n_trials=N_TRIALS, n_jobs=N_JOBS, timeout=TIMEOUT)\n",
        "except KeyboardInterrupt:\n",
        "    pass\n",
        "\n",
        "print(\"Number of finished trials: \", len(study.trials))\n",
        "print(\"Best trial:\")\n",
        "trial = study.best_trial\n",
        "\n",
        "print(f\"  Value: {trial.value}\")\n",
        "\n",
        "print(\"  Params: \")\n",
        "for key, value in trial.params.items():\n",
        "    print(f\"    {key}: {value}\")\n",
        "\n",
        "print(\"  User attrs:\")\n",
        "for key, value in trial.user_attrs.items():\n",
        "    print(f\"    {key}: {value}\")\n",
        "\n",
        "# Write report\n",
        "study.trials_dataframe().to_csv(\"study_results_ars_bipedalwalker.csv\")\n",
        "\n",
        "fig1 = plot_optimization_history(study)\n",
        "fig2 = plot_param_importances(study)\n",
        "\n",
        "fig1.show()\n",
        "fig2.show()"
      ]
    },
    {
      "cell_type": "markdown",
      "metadata": {
        "id": "ZIOd07StmeBQ"
      },
      "source": [
        "___"
      ]
    },
    {
      "cell_type": "markdown",
      "metadata": {
        "id": "him68XsUmhxN"
      },
      "source": [
        "___"
      ]
    }
  ],
  "metadata": {
    "colab": {
      "provenance": []
    },
    "kernelspec": {
      "display_name": "Python 3",
      "name": "python3"
    },
    "language_info": {
      "name": "python"
    }
  },
  "nbformat": 4,
  "nbformat_minor": 0
}